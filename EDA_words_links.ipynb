{
 "cells": [
  {
   "cell_type": "code",
   "execution_count": 3,
   "metadata": {},
   "outputs": [],
   "source": [
    "import pandas as pd\n",
    "links = pd.read_csv('../wikispeedia_paths-and-graph/links.tsv', comment='#', delimiter='\\t', \n",
    "                                    names=['article', 'linkTarget'])  \n",
    "links22 = pd.read_csv('../ada-2022-project-deadmaus/Wiki_2022/links22.tsv', comment='#', delimiter='\\t', \n",
    "                                    names=['article', 'linkTarget'])"
   ]
  },
  {
   "cell_type": "code",
   "execution_count": 49,
   "metadata": {},
   "outputs": [
    {
     "name": "stdout",
     "output_type": "stream",
     "text": [
      "2009 dataset total links: 119882 \n",
      "2022 dataset total links: 227581\n"
     ]
    }
   ],
   "source": [
    "print(f\"2009 dataset total links: {len(links)} \\n2022 dataset total links: {len(links22)}\")"
   ]
  },
  {
   "cell_type": "code",
   "execution_count": 50,
   "metadata": {},
   "outputs": [
    {
     "name": "stdout",
     "output_type": "stream",
     "text": [
      "Missing values:  0\n",
      "Missing values:  0\n",
      "Missing values:  0\n",
      "Missing values:  0\n"
     ]
    }
   ],
   "source": [
    "# Any missing values?\n",
    "print(\"Missing values: \", links.article.isna().sum())\n",
    "print(\"Missing values: \", links22.article.isna().sum())\n",
    "print(\"Missing values: \", links.linkTarget.isna().sum())\n",
    "print(\"Missing values: \", links22.linkTarget.isna().sum())"
   ]
  },
  {
   "cell_type": "markdown",
   "metadata": {},
   "source": [
    "### Number of words in the articles \n",
    "We want to examine the number of words in the articles to get a better understandign of the dataset. Additionally we want to know how the number of links correlate with the number of links and what the relationship between number of links and number of words look like. "
   ]
  },
  {
   "cell_type": "code",
   "execution_count": 12,
   "metadata": {},
   "outputs": [],
   "source": [
    "from urllib.parse import quote, unquote\n",
    "from bs4 import BeautifulSoup\n",
    "# Hermans function\n",
    "def get_plaintext(name):\n",
    "    file_path = '../plaintext_articles/' + name + '.txt'\n",
    "    with open(file_path, encoding='utf-8') as file:\n",
    "        #first 5 lines are comments and titles \n",
    "        lines = file.readlines()[5:] \n",
    "        return list(map(str.strip, lines))"
   ]
  },
  {
   "cell_type": "code",
   "execution_count": 13,
   "metadata": {},
   "outputs": [],
   "source": [
    "# Count the number of words in each article\n",
    "ls_articles09 = links.article.unique()\n",
    "ls_articles22 = links22.article.unique()\n",
    "\n",
    "word_count_ls = []\n",
    "\n",
    "for article in ls_articles09:\n",
    "    word_count= sum([len(l.split()) for l in get_plaintext(article)])\n",
    "    word_count_ls.append(word_count)"
   ]
  },
  {
   "cell_type": "code",
   "execution_count": 44,
   "metadata": {},
   "outputs": [
    {
     "name": "stdout",
     "output_type": "stream",
     "text": [
      "Longest article: 16348 words \n",
      "Shortest article: 100 words \n",
      "Median length: 2653.0\n"
     ]
    },
    {
     "data": {
      "text/plain": [
       "Text(0, 0.5, 'Frequency')"
      ]
     },
     "execution_count": 44,
     "metadata": {},
     "output_type": "execute_result"
    },
    {
     "data": {
      "image/png": "[encoded data removed]",
      "text/plain": [
       "<Figure size 432x288 with 1 Axes>"
      ]
     },
     "metadata": {
      "needs_background": "light"
     },
     "output_type": "display_data"
    }
   ],
   "source": [
    "# Plot histogram over number of words per article\n",
    "import matplotlib.pyplot as plt\n",
    "\n",
    "print(f\"Longest article: {max(word_count_ls)} words \\nShortest article: {min(word_count_ls)} words \\nMedian length: {np.median(word_count_ls)}\")\n",
    "\n",
    "plt.hist(word_count_ls, bins=100)\n",
    "plt.xlabel(\"Number of words in the articles of 2009\")\n",
    "plt.ylabel(\"Frequency\")"
   ]
  },
  {
   "cell_type": "code",
   "execution_count": 51,
   "metadata": {},
   "outputs": [],
   "source": [
    "# Words over number of links. The articles are ordered the same in the word_count_ls as in links dataframe\n",
    "word_count_na = np.array(word_count_ls)\n",
    "links_of_articles = [item for sublist in links.groupby(links.article).count().values for item in sublist]\n",
    "words_over_links = word_count_na/links_of_articles"
   ]
  },
  {
   "cell_type": "code",
   "execution_count": 52,
   "metadata": {},
   "outputs": [
    {
     "name": "stdout",
     "output_type": "stream",
     "text": [
      "Max word/link ratio: 3605.0\n"
     ]
    },
    {
     "data": {
      "text/plain": [
       "Text(0.5, 0, 'Words over links per article')"
      ]
     },
     "execution_count": 52,
     "metadata": {},
     "output_type": "execute_result"
    },
    {
     "data": {
      "image/png": "[encoded data removed]",
      "text/plain": [
       "<Figure size 432x288 with 1 Axes>"
      ]
     },
     "metadata": {
      "needs_background": "light"
     },
     "output_type": "display_data"
    }
   ],
   "source": [
    "print(f\"Max word/link ratio: {max(words_over_links)}\")\n",
    "plt.hist(words_over_links, bins=100)\n",
    "plt.xlabel(\"Words over links per article\")"
   ]
  },
  {
   "cell_type": "markdown",
   "metadata": {},
   "source": [
    "### Correlations\n",
    "We need to create lists with counts of each article for both columns in the dataset using the below methodology seperatly. This is because there are more unique articles in the article column than in the linkTarget column. Therefore, in a case where an article which exist in the article column does not exist in the linkTarget column, we append a 0."
   ]
  },
  {
   "cell_type": "code",
   "execution_count": 26,
   "metadata": {},
   "outputs": [
    {
     "name": "stdout",
     "output_type": "stream",
     "text": [
      "4587\n",
      "4587\n"
     ]
    }
   ],
   "source": [
    "# incomming vs outgoing 2009\n",
    "unique_articles = links.article.unique()\n",
    "unique_target = links.linkTarget.unique()\n",
    "outgoing = []\n",
    "incomming = []\n",
    "\n",
    "for article in unique_articles:\n",
    "    outgoing.append(links.article.value_counts()[article])\n",
    "\n",
    "for article in unique_articles:\n",
    "    if article in unique_target:\n",
    "        incomming.append(links.linkTarget.value_counts()[article])\n",
    "    else:\n",
    "        incomming.append(0)"
   ]
  },
  {
   "cell_type": "code",
   "execution_count": 46,
   "metadata": {},
   "outputs": [
    {
     "name": "stdout",
     "output_type": "stream",
     "text": [
      "4594\n",
      "4594\n"
     ]
    }
   ],
   "source": [
    "# incomming vs outgoing 2022\n",
    "unique_articles22 = links22.article.unique()\n",
    "unique_target22 = links22.linkTarget.unique()\n",
    "outgoing22 = []\n",
    "incomming22 = []\n",
    "\n",
    "for article in unique_articles22:\n",
    "    outgoing22.append(links22.article.value_counts()[article])\n",
    "\n",
    "for article in unique_articles22:\n",
    "    if article in unique_target22:\n",
    "        incomming22.append(links22.linkTarget.value_counts()[article])\n",
    "    else:\n",
    "        incomming22.append(0)"
   ]
  },
  {
   "cell_type": "code",
   "execution_count": 48,
   "metadata": {},
   "outputs": [
    {
     "name": "stdout",
     "output_type": "stream",
     "text": [
      "2009 Correlation 'word count', 'words over links': 0.2\n",
      "2009 Correlation 'outgoing links', 'incomming links': 0.542\n",
      "2022 Correlation 'outgoing links', 'incomming links': 0.717\n"
     ]
    }
   ],
   "source": [
    "# Word Count vs Number of links per article\n",
    "print(f\"2009 Correlation 'word count', 'words over links': {round(np.corrcoef(words_over_links, word_count_ls)[0,1],1)}\")\n",
    "\n",
    "# Incomming vs outgoing 2009\n",
    "print(f\"2009 Correlation 'outgoing links', 'incomming links': {round(np.corrcoef(outgoing, incomming)[0,1], 3)}\")\n",
    "\n",
    "# Incomming vs outgoing 2022 \n",
    "print(f\"2022 Correlation 'outgoing links', 'incomming links': {round(np.corrcoef(outgoing22, incomming22)[0,1], 3)}\")"
   ]
  },
  {
   "cell_type": "markdown",
   "metadata": {},
   "source": [
    "Interesting observation: correlation between incomming and outgoing links for each article got stronger between 2009 and 2022. "
   ]
  },
  {
   "cell_type": "code",
   "execution_count": null,
   "metadata": {},
   "outputs": [],
   "source": []
  }
 ],
 "metadata": {
  "kernelspec": {
   "display_name": "Python 3.8.8 ('base')",
   "language": "python",
   "name": "python3"
  },
  "language_info": {
   "codemirror_mode": {
    "name": "ipython",
    "version": 3
   },
   "file_extension": ".py",
   "mimetype": "text/x-python",
   "name": "python",
   "nbconvert_exporter": "python",
   "pygments_lexer": "ipython3",
   "version": "3.8.8"
  },
  "orig_nbformat": 4,
  "vscode": {
   "interpreter": {
    "hash": "2703f8c9ab1ac04b22966d975602a3b2e9be2d364f571b124b77afe9344d7a81"
   }
  }
 },
 "nbformat": 4,
 "nbformat_minor": 2
}
