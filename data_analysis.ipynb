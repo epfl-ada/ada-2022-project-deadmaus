{
 "cells": [
  {
   "cell_type": "code",
   "execution_count": 1,
   "id": "6ef88cca-4d79-4cd3-86c0-a00d5fb162d4",
   "metadata": {},
   "outputs": [],
   "source": [
    "import pandas as pd\n",
    "from urllib.parse import unquote"
   ]
  },
  {
   "cell_type": "code",
   "execution_count": 2,
   "id": "ddfdf5bf-a267-4dc0-ae34-654e881d3feb",
   "metadata": {},
   "outputs": [],
   "source": [
    "articles = pd.read_csv('wikispeedia_paths-and-graph/articles.tsv', comment='#', delimiter='\\t', encoding='utf8', \n",
    "                                    names=['article'])\n",
    "categories = pd.read_csv('wikispeedia_paths-and-graph/categories.tsv', comment='#', delimiter='\\t',\n",
    "                                    names=['article', 'category'])\n",
    "links = pd.read_csv('wikispeedia_paths-and-graph/links.tsv', comment='#', delimiter='\\t', \n",
    "                                    names=['linkSource', 'linkTarget'])  \n",
    "finished_paths = pd.read_csv('wikispeedia_paths-and-graph/paths_finished.tsv', comment='#', delimiter='\\t', \n",
    "                                    names=['hashedIpAddress', 'timestamp', 'durationInSec', 'path', 'rating'])\n",
    "unfinished_paths = pd.read_csv('wikispeedia_paths-and-graph/paths_unfinished.tsv', comment='#', delimiter='\\t',\n",
    "                                    names=['hashedIpAddress', 'timestamp', 'durationInSec', 'path', 'target', 'type'])"
   ]
  },
  {
   "cell_type": "code",
   "execution_count": 3,
   "id": "4d415e84-5f4d-4845-85eb-3de4807abd23",
   "metadata": {},
   "outputs": [
    {
     "data": {
      "text/html": [
       "<div>\n",
       "<style scoped>\n",
       "    .dataframe tbody tr th:only-of-type {\n",
       "        vertical-align: middle;\n",
       "    }\n",
       "\n",
       "    .dataframe tbody tr th {\n",
       "        vertical-align: top;\n",
       "    }\n",
       "\n",
       "    .dataframe thead th {\n",
       "        text-align: right;\n",
       "    }\n",
       "</style>\n",
       "<table border=\"1\" class=\"dataframe\">\n",
       "  <thead>\n",
       "    <tr style=\"text-align: right;\">\n",
       "      <th></th>\n",
       "      <th>linkSource</th>\n",
       "      <th>linkTarget</th>\n",
       "    </tr>\n",
       "  </thead>\n",
       "  <tbody>\n",
       "    <tr>\n",
       "      <th>0</th>\n",
       "      <td>Áedán_mac_Gabráin</td>\n",
       "      <td>Bede</td>\n",
       "    </tr>\n",
       "    <tr>\n",
       "      <th>1</th>\n",
       "      <td>Áedán_mac_Gabráin</td>\n",
       "      <td>Columba</td>\n",
       "    </tr>\n",
       "    <tr>\n",
       "      <th>2</th>\n",
       "      <td>Áedán_mac_Gabráin</td>\n",
       "      <td>Dál_Riata</td>\n",
       "    </tr>\n",
       "    <tr>\n",
       "      <th>3</th>\n",
       "      <td>Áedán_mac_Gabráin</td>\n",
       "      <td>Great_Britain</td>\n",
       "    </tr>\n",
       "    <tr>\n",
       "      <th>4</th>\n",
       "      <td>Áedán_mac_Gabráin</td>\n",
       "      <td>Ireland</td>\n",
       "    </tr>\n",
       "  </tbody>\n",
       "</table>\n",
       "</div>"
      ],
      "text/plain": [
       "          linkSource     linkTarget\n",
       "0  Áedán_mac_Gabráin           Bede\n",
       "1  Áedán_mac_Gabráin        Columba\n",
       "2  Áedán_mac_Gabráin      Dál_Riata\n",
       "3  Áedán_mac_Gabráin  Great_Britain\n",
       "4  Áedán_mac_Gabráin        Ireland"
      ]
     },
     "execution_count": 3,
     "metadata": {},
     "output_type": "execute_result"
    }
   ],
   "source": [
    "# Apply decoding on articles\n",
    "articles['article'] = articles['article'].apply(unquote)\n",
    "categories['article'] = categories['article'].apply(unquote)\n",
    "links = links.applymap(unquote)\n",
    "links.head(5)"
   ]
  },
  {
   "cell_type": "code",
   "execution_count": 4,
   "id": "d0a56d83-edcc-46d1-af6d-436fd9f46e77",
   "metadata": {},
   "outputs": [],
   "source": [
    "# Set indices\n",
    "categories.set_index('article', inplace=True)\n",
    "finished_paths.set_index('hashedIpAddress', inplace=True)\n",
    "unfinished_paths.set_index('hashedIpAddress', inplace=True)"
   ]
  },
  {
   "cell_type": "code",
   "execution_count": 46,
   "id": "77bef4ea",
   "metadata": {},
   "outputs": [
    {
     "data": {
      "text/plain": [
       "pandas.core.frame.DataFrame"
      ]
     },
     "execution_count": 46,
     "metadata": {},
     "output_type": "execute_result"
    }
   ],
   "source": [
    "type(categories[categories[\"category\"].str.contains(\"subject.Geography.African_Geography\")])"
   ]
  },
  {
   "cell_type": "code",
   "execution_count": 49,
   "id": "19752622-908f-4468-868e-252756001c2e",
   "metadata": {},
   "outputs": [
    {
     "name": "stdout",
     "output_type": "stream",
     "text": [
      "51318\n"
     ]
    }
   ],
   "source": [
    "# Create df with all paths\n",
    "paths_combined = pd.concat([finished_paths, unfinished_paths])\n",
    "paths_combined.head(5)\n",
    "print(len(finished_paths.index))"
   ]
  },
  {
   "cell_type": "code",
   "execution_count": null,
   "id": "1dbc6c38",
   "metadata": {},
   "outputs": [],
   "source": []
  },
  {
   "cell_type": "code",
   "execution_count": 48,
   "id": "17f3a876",
   "metadata": {},
   "outputs": [
    {
     "name": "stdout",
     "output_type": "stream",
     "text": [
      "24875\n"
     ]
    }
   ],
   "source": [
    "unfinished_paths.sample(5)\n",
    "print(len(unfinished_paths.index))"
   ]
  },
  {
   "cell_type": "code",
   "execution_count": 7,
   "id": "35653412",
   "metadata": {},
   "outputs": [
    {
     "name": "stderr",
     "output_type": "stream",
     "text": [
      "/var/folders/gg/nvlghfjs75g8s2cktfy2rbd40000gn/T/ipykernel_2771/3342138466.py:10: SettingWithCopyWarning: \n",
      "A value is trying to be set on a copy of a slice from a DataFrame.\n",
      "Try using .loc[row_indexer,col_indexer] = value instead\n",
      "\n",
      "See the caveats in the documentation: https://pandas.pydata.org/pandas-docs/stable/user_guide/indexing.html#returning-a-view-versus-a-copy\n",
      "  finished_paths_with_back['article1'], finished_paths_with_back['article2'] = \\\n",
      "/var/folders/gg/nvlghfjs75g8s2cktfy2rbd40000gn/T/ipykernel_2771/3342138466.py:10: SettingWithCopyWarning: \n",
      "A value is trying to be set on a copy of a slice from a DataFrame.\n",
      "Try using .loc[row_indexer,col_indexer] = value instead\n",
      "\n",
      "See the caveats in the documentation: https://pandas.pydata.org/pandas-docs/stable/user_guide/indexing.html#returning-a-view-versus-a-copy\n",
      "  finished_paths_with_back['article1'], finished_paths_with_back['article2'] = \\\n"
     ]
    },
    {
     "data": {
      "text/html": [
       "<div>\n",
       "<style scoped>\n",
       "    .dataframe tbody tr th:only-of-type {\n",
       "        vertical-align: middle;\n",
       "    }\n",
       "\n",
       "    .dataframe tbody tr th {\n",
       "        vertical-align: top;\n",
       "    }\n",
       "\n",
       "    .dataframe thead th {\n",
       "        text-align: right;\n",
       "    }\n",
       "</style>\n",
       "<table border=\"1\" class=\"dataframe\">\n",
       "  <thead>\n",
       "    <tr style=\"text-align: right;\">\n",
       "      <th></th>\n",
       "      <th>timestamp</th>\n",
       "      <th>durationInSec</th>\n",
       "      <th>path</th>\n",
       "      <th>rating</th>\n",
       "      <th>article1</th>\n",
       "      <th>article2</th>\n",
       "    </tr>\n",
       "    <tr>\n",
       "      <th>hashedIpAddress</th>\n",
       "      <th></th>\n",
       "      <th></th>\n",
       "      <th></th>\n",
       "      <th></th>\n",
       "      <th></th>\n",
       "      <th></th>\n",
       "    </tr>\n",
       "  </thead>\n",
       "  <tbody>\n",
       "    <tr>\n",
       "      <th>4cb0068c36658716</th>\n",
       "      <td>1248654953</td>\n",
       "      <td>253</td>\n",
       "      <td>14th_century;Time;Science;Nature;Weather;Sunli...</td>\n",
       "      <td>3.0</td>\n",
       "      <td>Sunlight</td>\n",
       "      <td>Sun</td>\n",
       "    </tr>\n",
       "    <tr>\n",
       "      <th>0d57c8c57d75e2f5</th>\n",
       "      <td>1283956474</td>\n",
       "      <td>391</td>\n",
       "      <td>14th_century;Renaissance;Empiricism;Nature;Wea...</td>\n",
       "      <td>5.0</td>\n",
       "      <td>Sunlight</td>\n",
       "      <td>Rain</td>\n",
       "    </tr>\n",
       "    <tr>\n",
       "      <th>0d57c8c57d75e2f5</th>\n",
       "      <td>1290753904</td>\n",
       "      <td>432</td>\n",
       "      <td>14th_century;Renaissance;Leonardo_da_Vinci;Wat...</td>\n",
       "      <td>NaN</td>\n",
       "      <td>Cloud</td>\n",
       "      <td>&lt;</td>\n",
       "    </tr>\n",
       "    <tr>\n",
       "      <th>03dc907932cecfc5</th>\n",
       "      <td>1336436263</td>\n",
       "      <td>387</td>\n",
       "      <td>14th_century;Europe;Republic_of_Ireland;&lt;;&lt;;Eu...</td>\n",
       "      <td>2.0</td>\n",
       "      <td>Republic_of_Ireland</td>\n",
       "      <td>&lt;</td>\n",
       "    </tr>\n",
       "    <tr>\n",
       "      <th>46021cc81bd7069a</th>\n",
       "      <td>1343940479</td>\n",
       "      <td>246</td>\n",
       "      <td>14th_century;Time;Physics;&lt;;Day;Sun;Sunlight;U...</td>\n",
       "      <td>NaN</td>\n",
       "      <td>Physics</td>\n",
       "      <td>Day</td>\n",
       "    </tr>\n",
       "  </tbody>\n",
       "</table>\n",
       "</div>"
      ],
      "text/plain": [
       "                   timestamp  durationInSec  \\\n",
       "hashedIpAddress                               \n",
       "4cb0068c36658716  1248654953            253   \n",
       "0d57c8c57d75e2f5  1283956474            391   \n",
       "0d57c8c57d75e2f5  1290753904            432   \n",
       "03dc907932cecfc5  1336436263            387   \n",
       "46021cc81bd7069a  1343940479            246   \n",
       "\n",
       "                                                               path  rating  \\\n",
       "hashedIpAddress                                                               \n",
       "4cb0068c36658716  14th_century;Time;Science;Nature;Weather;Sunli...     3.0   \n",
       "0d57c8c57d75e2f5  14th_century;Renaissance;Empiricism;Nature;Wea...     5.0   \n",
       "0d57c8c57d75e2f5  14th_century;Renaissance;Leonardo_da_Vinci;Wat...     NaN   \n",
       "03dc907932cecfc5  14th_century;Europe;Republic_of_Ireland;<;<;Eu...     2.0   \n",
       "46021cc81bd7069a  14th_century;Time;Physics;<;Day;Sun;Sunlight;U...     NaN   \n",
       "\n",
       "                             article1 article2  \n",
       "hashedIpAddress                                 \n",
       "4cb0068c36658716             Sunlight      Sun  \n",
       "0d57c8c57d75e2f5             Sunlight     Rain  \n",
       "0d57c8c57d75e2f5                Cloud        <  \n",
       "03dc907932cecfc5  Republic_of_Ireland        <  \n",
       "46021cc81bd7069a              Physics      Day  "
      ]
     },
     "execution_count": 7,
     "metadata": {},
     "output_type": "execute_result"
    }
   ],
   "source": [
    "# Filter out all paths with <\n",
    "finished_paths_with_back = finished_paths.loc[finished_paths.path.str.contains('<')]\n",
    "\n",
    "def get_associated_articles(path):\n",
    "    article_list = path.split(';')\n",
    "    index = article_list.index('<')\n",
    "    return article_list[index-1], article_list[index+1]\n",
    "    \n",
    "# Add columns of associated articles before and after <\n",
    "finished_paths_with_back['article1'], finished_paths_with_back['article2'] = \\\n",
    "    zip(*finished_paths_with_back['path'].map(get_associated_articles))\n",
    "finished_paths_with_back.head(5)"
   ]
  },
  {
   "cell_type": "code",
   "execution_count": 50,
   "id": "09841128",
   "metadata": {},
   "outputs": [
    {
     "data": {
      "text/plain": [
       "8995"
      ]
     },
     "execution_count": 50,
     "metadata": {},
     "output_type": "execute_result"
    }
   ],
   "source": [
    "len(finished_paths_with_back.index)"
   ]
  }
 ],
 "metadata": {
  "kernelspec": {
   "display_name": "Python 3.10.6 64-bit",
   "language": "python",
   "name": "python3"
  },
  "language_info": {
   "codemirror_mode": {
    "name": "ipython",
    "version": 3
   },
   "file_extension": ".py",
   "mimetype": "text/x-python",
   "name": "python",
   "nbconvert_exporter": "python",
   "pygments_lexer": "ipython3",
   "version": "3.10.6"
  },
  "vscode": {
   "interpreter": {
    "hash": "b0fa6594d8f4cbf19f97940f81e996739fb7646882a419484c72d19e05852a7e"
   }
  }
 },
 "nbformat": 4,
 "nbformat_minor": 5
}
