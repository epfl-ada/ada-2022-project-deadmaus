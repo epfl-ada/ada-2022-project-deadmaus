{
 "cells": [
  {
   "cell_type": "code",
   "execution_count": 292,
   "id": "6ef88cca-4d79-4cd3-86c0-a00d5fb162d4",
   "metadata": {},
   "outputs": [],
   "source": [
    "import pandas as pd\n",
    "import numpy as np\n",
    "import matplotlib.pyplot as plt\n",
    "from scipy import stats\n",
    "from urllib.parse import quote, unquote\n",
    "from bs4 import BeautifulSoup\n",
    "from collections import Counter\n",
    "import seaborn as sns\n",
    "from statistics import mean\n",
    "from matplotlib.colors import LogNorm"
   ]
  },
  {
   "cell_type": "markdown",
   "id": "68b24227",
   "metadata": {},
   "source": [
    "### Reading the data into dataframes"
   ]
  },
  {
   "cell_type": "code",
   "execution_count": 272,
   "id": "ddfdf5bf-a267-4dc0-ae34-654e881d3feb",
   "metadata": {},
   "outputs": [],
   "source": [
    "articles = pd.read_csv('wikispeedia_paths-and-graph/articles.tsv', comment='#', delimiter='\\t', encoding='utf8', \n",
    "                                    names=['article'])\n",
    "categories = pd.read_csv('wikispeedia_paths-and-graph/categories.tsv', comment='#', delimiter='\\t',\n",
    "                                    names=['article', 'category'])\n",
    "links = pd.read_csv('wikispeedia_paths-and-graph/links.tsv', comment='#', delimiter='\\t', \n",
    "                                    names=['article', 'linkTarget'])  \n",
    "finished_paths = pd.read_csv('wikispeedia_paths-and-graph/paths_finished.tsv', comment='#', delimiter='\\t', \n",
    "                                    names=['hashedIpAddress', 'timestamp', 'durationInSec', 'path', 'rating'])\n",
    "unfinished_paths = pd.read_csv('wikispeedia_paths-and-graph/paths_unfinished.tsv', comment='#', delimiter='\\t',\n",
    "                                    names=['hashedIpAddress', 'timestamp', 'durationInSec', 'path', 'target', 'type'])"
   ]
  },
  {
   "cell_type": "markdown",
   "id": "f7d8b84e",
   "metadata": {},
   "source": [
    "Apply decoding on articles\n",
    "\n",
    "Note: article names stored in df are decdoed but with underscores (_) instead of spaces ( )"
   ]
  },
  {
   "cell_type": "code",
   "execution_count": 273,
   "id": "4d415e84-5f4d-4845-85eb-3de4807abd23",
   "metadata": {},
   "outputs": [
    {
     "data": {
      "text/html": [
       "<div>\n",
       "<style scoped>\n",
       "    .dataframe tbody tr th:only-of-type {\n",
       "        vertical-align: middle;\n",
       "    }\n",
       "\n",
       "    .dataframe tbody tr th {\n",
       "        vertical-align: top;\n",
       "    }\n",
       "\n",
       "    .dataframe thead th {\n",
       "        text-align: right;\n",
       "    }\n",
       "</style>\n",
       "<table border=\"1\" class=\"dataframe\">\n",
       "  <thead>\n",
       "    <tr style=\"text-align: right;\">\n",
       "      <th></th>\n",
       "      <th>article</th>\n",
       "      <th>linkTarget</th>\n",
       "    </tr>\n",
       "  </thead>\n",
       "  <tbody>\n",
       "    <tr>\n",
       "      <th>0</th>\n",
       "      <td>Áedán_mac_Gabráin</td>\n",
       "      <td>Bede</td>\n",
       "    </tr>\n",
       "    <tr>\n",
       "      <th>1</th>\n",
       "      <td>Áedán_mac_Gabráin</td>\n",
       "      <td>Columba</td>\n",
       "    </tr>\n",
       "    <tr>\n",
       "      <th>2</th>\n",
       "      <td>Áedán_mac_Gabráin</td>\n",
       "      <td>Dál_Riata</td>\n",
       "    </tr>\n",
       "    <tr>\n",
       "      <th>3</th>\n",
       "      <td>Áedán_mac_Gabráin</td>\n",
       "      <td>Great_Britain</td>\n",
       "    </tr>\n",
       "    <tr>\n",
       "      <th>4</th>\n",
       "      <td>Áedán_mac_Gabráin</td>\n",
       "      <td>Ireland</td>\n",
       "    </tr>\n",
       "  </tbody>\n",
       "</table>\n",
       "</div>"
      ],
      "text/plain": [
       "             article     linkTarget\n",
       "0  Áedán_mac_Gabráin           Bede\n",
       "1  Áedán_mac_Gabráin        Columba\n",
       "2  Áedán_mac_Gabráin      Dál_Riata\n",
       "3  Áedán_mac_Gabráin  Great_Britain\n",
       "4  Áedán_mac_Gabráin        Ireland"
      ]
     },
     "execution_count": 273,
     "metadata": {},
     "output_type": "execute_result"
    }
   ],
   "source": [
    "articles['article'] = articles['article'].apply(unquote) # unquote to decode the article names\n",
    "categories['article'] = categories['article'].apply(unquote)\n",
    "links = links.applymap(unquote)\n",
    "links.head(5)"
   ]
  },
  {
   "cell_type": "markdown",
   "id": "09557fd5",
   "metadata": {},
   "source": [
    "For every article, \"links\" stores all the articles it outlinks in a dataframe. Every row can be interpreted as containing a directed edge from the entry in column \"article\" to the entry in column \"linkTarget\".\n",
    "\n",
    "\"links22\" is an updated version of \"links\" where the articles used are from 2022"
   ]
  },
  {
   "cell_type": "code",
   "execution_count": 274,
   "id": "693c8126",
   "metadata": {},
   "outputs": [
    {
     "data": {
      "text/html": [
       "<div>\n",
       "<style scoped>\n",
       "    .dataframe tbody tr th:only-of-type {\n",
       "        vertical-align: middle;\n",
       "    }\n",
       "\n",
       "    .dataframe tbody tr th {\n",
       "        vertical-align: top;\n",
       "    }\n",
       "\n",
       "    .dataframe thead th {\n",
       "        text-align: right;\n",
       "    }\n",
       "</style>\n",
       "<table border=\"1\" class=\"dataframe\">\n",
       "  <thead>\n",
       "    <tr style=\"text-align: right;\">\n",
       "      <th></th>\n",
       "      <th>article</th>\n",
       "      <th>linkTarget</th>\n",
       "    </tr>\n",
       "  </thead>\n",
       "  <tbody>\n",
       "    <tr>\n",
       "      <th>0</th>\n",
       "      <td>linkSource</td>\n",
       "      <td>linkTarget</td>\n",
       "    </tr>\n",
       "    <tr>\n",
       "      <th>1</th>\n",
       "      <td>Áedán_mac_Gabráin</td>\n",
       "      <td>Columba</td>\n",
       "    </tr>\n",
       "    <tr>\n",
       "      <th>2</th>\n",
       "      <td>Áedán_mac_Gabráin</td>\n",
       "      <td>Isle_of_Man</td>\n",
       "    </tr>\n",
       "    <tr>\n",
       "      <th>3</th>\n",
       "      <td>Áedán_mac_Gabráin</td>\n",
       "      <td>Genealogy</td>\n",
       "    </tr>\n",
       "    <tr>\n",
       "      <th>4</th>\n",
       "      <td>Áedán_mac_Gabráin</td>\n",
       "      <td>Bede</td>\n",
       "    </tr>\n",
       "  </tbody>\n",
       "</table>\n",
       "</div>"
      ],
      "text/plain": [
       "             article   linkTarget\n",
       "0         linkSource   linkTarget\n",
       "1  Áedán_mac_Gabráin      Columba\n",
       "2  Áedán_mac_Gabráin  Isle_of_Man\n",
       "3  Áedán_mac_Gabráin    Genealogy\n",
       "4  Áedán_mac_Gabráin         Bede"
      ]
     },
     "execution_count": 274,
     "metadata": {},
     "output_type": "execute_result"
    }
   ],
   "source": [
    "links22 = pd.read_csv('Wiki_2022/links22.tsv', comment='#', delimiter='\\t', names=['article', 'linkTarget']).applymap(unquote)\n",
    "links22.head()"
   ]
  },
  {
   "cell_type": "code",
   "execution_count": 275,
   "id": "d0a56d83-edcc-46d1-af6d-436fd9f46e77",
   "metadata": {},
   "outputs": [],
   "source": [
    "# Set indices\n",
    "articles.set_index('article', inplace=True)\n",
    "categories.set_index('article', inplace=True)\n",
    "finished_paths.set_index('hashedIpAddress', inplace=True)\n",
    "unfinished_paths.set_index('hashedIpAddress', inplace=True)"
   ]
  },
  {
   "cell_type": "code",
   "execution_count": 276,
   "id": "19752622-908f-4468-868e-252756001c2e",
   "metadata": {},
   "outputs": [
    {
     "name": "stdout",
     "output_type": "stream",
     "text": [
      "51318\n"
     ]
    }
   ],
   "source": [
    "# Create df with all paths\n",
    "paths_combined = pd.concat([finished_paths, unfinished_paths])\n",
    "paths_combined.head(5)\n",
    "print(len(finished_paths.index))"
   ]
  },
  {
   "cell_type": "code",
   "execution_count": 277,
   "id": "35653412",
   "metadata": {},
   "outputs": [
    {
     "name": "stderr",
     "output_type": "stream",
     "text": [
      "/var/folders/gg/nvlghfjs75g8s2cktfy2rbd40000gn/T/ipykernel_2599/3853467544.py:11: SettingWithCopyWarning: \n",
      "A value is trying to be set on a copy of a slice from a DataFrame.\n",
      "Try using .loc[row_indexer,col_indexer] = value instead\n",
      "\n",
      "See the caveats in the documentation: https://pandas.pydata.org/pandas-docs/stable/user_guide/indexing.html#returning-a-view-versus-a-copy\n",
      "  finished_paths_with_back['article1'], finished_paths_with_back['article2'] = \\\n",
      "/var/folders/gg/nvlghfjs75g8s2cktfy2rbd40000gn/T/ipykernel_2599/3853467544.py:11: SettingWithCopyWarning: \n",
      "A value is trying to be set on a copy of a slice from a DataFrame.\n",
      "Try using .loc[row_indexer,col_indexer] = value instead\n",
      "\n",
      "See the caveats in the documentation: https://pandas.pydata.org/pandas-docs/stable/user_guide/indexing.html#returning-a-view-versus-a-copy\n",
      "  finished_paths_with_back['article1'], finished_paths_with_back['article2'] = \\\n"
     ]
    },
    {
     "data": {
      "text/html": [
       "<div>\n",
       "<style scoped>\n",
       "    .dataframe tbody tr th:only-of-type {\n",
       "        vertical-align: middle;\n",
       "    }\n",
       "\n",
       "    .dataframe tbody tr th {\n",
       "        vertical-align: top;\n",
       "    }\n",
       "\n",
       "    .dataframe thead th {\n",
       "        text-align: right;\n",
       "    }\n",
       "</style>\n",
       "<table border=\"1\" class=\"dataframe\">\n",
       "  <thead>\n",
       "    <tr style=\"text-align: right;\">\n",
       "      <th></th>\n",
       "      <th>timestamp</th>\n",
       "      <th>durationInSec</th>\n",
       "      <th>path</th>\n",
       "      <th>rating</th>\n",
       "      <th>article1</th>\n",
       "      <th>article2</th>\n",
       "    </tr>\n",
       "    <tr>\n",
       "      <th>hashedIpAddress</th>\n",
       "      <th></th>\n",
       "      <th></th>\n",
       "      <th></th>\n",
       "      <th></th>\n",
       "      <th></th>\n",
       "      <th></th>\n",
       "    </tr>\n",
       "  </thead>\n",
       "  <tbody>\n",
       "    <tr>\n",
       "      <th>4cb0068c36658716</th>\n",
       "      <td>1248654953</td>\n",
       "      <td>253</td>\n",
       "      <td>14th_century;Time;Science;Nature;Weather;Sunli...</td>\n",
       "      <td>3.0</td>\n",
       "      <td>Sunlight</td>\n",
       "      <td>Sun</td>\n",
       "    </tr>\n",
       "    <tr>\n",
       "      <th>0d57c8c57d75e2f5</th>\n",
       "      <td>1283956474</td>\n",
       "      <td>391</td>\n",
       "      <td>14th_century;Renaissance;Empiricism;Nature;Wea...</td>\n",
       "      <td>5.0</td>\n",
       "      <td>Sunlight</td>\n",
       "      <td>Rain</td>\n",
       "    </tr>\n",
       "    <tr>\n",
       "      <th>0d57c8c57d75e2f5</th>\n",
       "      <td>1290753904</td>\n",
       "      <td>432</td>\n",
       "      <td>14th_century;Renaissance;Leonardo_da_Vinci;Wat...</td>\n",
       "      <td>NaN</td>\n",
       "      <td>Cloud</td>\n",
       "      <td>&lt;</td>\n",
       "    </tr>\n",
       "    <tr>\n",
       "      <th>03dc907932cecfc5</th>\n",
       "      <td>1336436263</td>\n",
       "      <td>387</td>\n",
       "      <td>14th_century;Europe;Republic_of_Ireland;&lt;;&lt;;Eu...</td>\n",
       "      <td>2.0</td>\n",
       "      <td>Republic_of_Ireland</td>\n",
       "      <td>&lt;</td>\n",
       "    </tr>\n",
       "    <tr>\n",
       "      <th>46021cc81bd7069a</th>\n",
       "      <td>1343940479</td>\n",
       "      <td>246</td>\n",
       "      <td>14th_century;Time;Physics;&lt;;Day;Sun;Sunlight;U...</td>\n",
       "      <td>NaN</td>\n",
       "      <td>Physics</td>\n",
       "      <td>Day</td>\n",
       "    </tr>\n",
       "  </tbody>\n",
       "</table>\n",
       "</div>"
      ],
      "text/plain": [
       "                   timestamp  durationInSec  \\\n",
       "hashedIpAddress                               \n",
       "4cb0068c36658716  1248654953            253   \n",
       "0d57c8c57d75e2f5  1283956474            391   \n",
       "0d57c8c57d75e2f5  1290753904            432   \n",
       "03dc907932cecfc5  1336436263            387   \n",
       "46021cc81bd7069a  1343940479            246   \n",
       "\n",
       "                                                               path  rating  \\\n",
       "hashedIpAddress                                                               \n",
       "4cb0068c36658716  14th_century;Time;Science;Nature;Weather;Sunli...     3.0   \n",
       "0d57c8c57d75e2f5  14th_century;Renaissance;Empiricism;Nature;Wea...     5.0   \n",
       "0d57c8c57d75e2f5  14th_century;Renaissance;Leonardo_da_Vinci;Wat...     NaN   \n",
       "03dc907932cecfc5  14th_century;Europe;Republic_of_Ireland;<;<;Eu...     2.0   \n",
       "46021cc81bd7069a  14th_century;Time;Physics;<;Day;Sun;Sunlight;U...     NaN   \n",
       "\n",
       "                             article1 article2  \n",
       "hashedIpAddress                                 \n",
       "4cb0068c36658716             Sunlight      Sun  \n",
       "0d57c8c57d75e2f5             Sunlight     Rain  \n",
       "0d57c8c57d75e2f5                Cloud        <  \n",
       "03dc907932cecfc5  Republic_of_Ireland        <  \n",
       "46021cc81bd7069a              Physics      Day  "
      ]
     },
     "execution_count": 277,
     "metadata": {},
     "output_type": "execute_result"
    }
   ],
   "source": [
    "# Filter out all paths with <\n",
    "finished_paths_with_back = finished_paths.loc[finished_paths.path.str.contains('<')]\n",
    "\n",
    "def get_associated_articles(path):\n",
    "    article_list = path.split(';')\n",
    "    index = article_list.index('<')\n",
    "    return article_list[index-1], article_list[index+1]\n",
    "    \n",
    "# Add columns of associated articles before and after <\n",
    "# TODO: get rid of warnings\n",
    "finished_paths_with_back['article1'], finished_paths_with_back['article2'] = \\\n",
    "    zip(*finished_paths_with_back['path'].map(get_associated_articles))\n",
    "finished_paths_with_back.head(5)"
   ]
  },
  {
   "cell_type": "code",
   "execution_count": 278,
   "id": "09841128",
   "metadata": {},
   "outputs": [
    {
     "name": "stdout",
     "output_type": "stream",
     "text": [
      "Number of finished paths containing a back-edge: 8995\n"
     ]
    }
   ],
   "source": [
    "print(f\"Number of finished paths containing a back-edge: {len(finished_paths_with_back.index)}\")"
   ]
  },
  {
   "cell_type": "code",
   "execution_count": 279,
   "id": "ba418298",
   "metadata": {},
   "outputs": [],
   "source": [
    "# Functions for accessing article data\n",
    "# Return a list containing plaintext content of wikipedia article\n",
    "def get_plaintext(name):\n",
    "    file_path = 'plaintext_articles/' + quote(name) + '.txt'\n",
    "    with open(file_path, encoding='utf-8') as file:\n",
    "        #first 5 lines are comments and titles \n",
    "        lines = file.readlines()[5:] \n",
    "        return list(map(str.strip, lines))\n",
    "\n",
    "# Return prettified html content of wikipedia article\n",
    "def get_html(name):\n",
    "    file_path = 'wpcd/wp/' + name[0] + '/' + quote(name) + '.htm'\n",
    "    with open(file_path) as file:\n",
    "        html_doc = file.read()\n",
    "        soup = BeautifulSoup(html_doc, 'html.parser')\n",
    "        return soup.prettify()"
   ]
  },
  {
   "cell_type": "markdown",
   "id": "6b0ff7b7",
   "metadata": {},
   "source": [
    "# Exploratory Data Analysis"
   ]
  },
  {
   "cell_type": "code",
   "execution_count": 280,
   "id": "7d79b37b",
   "metadata": {},
   "outputs": [
    {
     "name": "stdout",
     "output_type": "stream",
     "text": [
      "The number of articles is: 4604\n"
     ]
    }
   ],
   "source": [
    "# Exploratory Data Analysis\n",
    "n_articles = len(articles)\n",
    "print(f'The number of articles is: {n_articles}')\n"
   ]
  },
  {
   "cell_type": "markdown",
   "id": "a947e70f",
   "metadata": {},
   "source": [
    "## Distributions of Data"
   ]
  },
  {
   "cell_type": "markdown",
   "id": "762b3caa",
   "metadata": {},
   "source": [
    "### Incoming and Outgoing edges in Wikipedia"
   ]
  },
  {
   "cell_type": "code",
   "execution_count": 287,
   "id": "4e999033",
   "metadata": {},
   "outputs": [],
   "source": [
    "def edge_distributions(edges, incoming=True, old=True):\n",
    "    '''\n",
    "    Plots the distributions of the number of incoming/outgoing edges for each article for the 2009 and 2022 datasets.\n",
    "    \n",
    "    :param edges: dataframe containing number of edges (either incoming or outgoing)\n",
    "    :param incoming: boolean, True if incoming edges, False if outgoing edges\n",
    "    :param old: boolean, True if old dataset, False if new dataset\n",
    "    '''\n",
    "    articles_edges = (articles.copy(deep=True).join(edges).fillna(0))\n",
    "\n",
    "    if incoming:\n",
    "        articles_edges_lt = articles_edges.article\n",
    "    else:\n",
    "        articles_edges_lt = articles_edges.linkTarget\n",
    "    mean_links = articles_edges_lt.mean()\n",
    "    max_links = articles_edges_lt.max()\n",
    "    num_leaves = (articles_edges_lt == 0).sum()\n",
    "    if old:\n",
    "        print(f'The mean number of inlinks is: {mean_links:.2f}')\n",
    "        print(f'The maximum number of inlinks on any page is: {max_links}. This is the article on {articles_edges_lt[articles_edges_lt==max_links].index[0]}.')\n",
    "        print(f'The number of pages without any inlinks is: {num_leaves}')\n",
    "    else:\n",
    "        print(f'The mean number of inlinks in 2022 is: {mean_links:.2f}')\n",
    "        print(f'The maximum number of inlinks in 2022 on any page is: {max_links}. This is the article on {articles_edges_lt[articles_edges_lt==max_links].index[0]}.')\n",
    "        print(f'The number of pages without any inlinks in 2022 is: {num_leaves}')\n",
    "\n",
    "\n",
    "    bins = [i for i in range(int(max(articles_edges_lt)+1))]\n",
    "    return articles_edges, bins"
   ]
  },
  {
   "cell_type": "markdown",
   "id": "02cbc695",
   "metadata": {},
   "source": [
    "### Inlinks\n",
    "Distibutions of inlinks, original vs 2022"
   ]
  },
  {
   "cell_type": "code",
   "execution_count": 288,
   "id": "acaed8f8",
   "metadata": {},
   "outputs": [
    {
     "name": "stdout",
     "output_type": "stream",
     "text": [
      "The mean number of inlinks is: 26.04\n",
      "The maximum number of inlinks on any page is: 1551.0. This is the article on United_States.\n",
      "The number of pages without any inlinks is: 469\n",
      "The mean number of inlinks in 2022 is: 49.43\n",
      "The maximum number of inlinks in 2022 on any page is: 1064.0. This is the article on United_States.\n",
      "The number of pages without any inlinks in 2022 is: 467\n"
     ]
    },
    {
     "data": {
      "image/png": "[encoded data removed]",
      "text/plain": [
       "<Figure size 500x300 with 2 Axes>"
      ]
     },
     "metadata": {},
     "output_type": "display_data"
    }
   ],
   "source": [
    "fig, axes = plt.subplots(nrows=1, ncols=2, figsize=(5, 3))\n",
    "plt.suptitle('Inlinks')\n",
    "art1, bins1 = edge_distributions(links.groupby(['linkTarget'])['article'].count(), True)\n",
    "art2, bins2 = edge_distributions(links22.groupby(['linkTarget'])['article'].count(), True, False)\n",
    "art1.hist(bins=bins1, ax=axes[0], log=True, color='blue' ,label='2009')\n",
    "art2.hist(bins=bins2, ax=axes[1], log=True, color='orange', label='2022')\n",
    "axes[0].set_title('2009')\n",
    "axes[1].set_title('2022')\n",
    "plt.show()"
   ]
  },
  {
   "cell_type": "code",
   "execution_count": 289,
   "id": "44c6d2a1",
   "metadata": {},
   "outputs": [
    {
     "name": "stdout",
     "output_type": "stream",
     "text": [
      "The mean number of inlinks is: 26.04\n",
      "The maximum number of inlinks on any page is: 294.0. This is the article on United_States.\n",
      "The number of pages without any inlinks is: 17\n",
      "The mean number of inlinks in 2022 is: 49.43\n",
      "The maximum number of inlinks in 2022 on any page is: 367.0. This is the article on Europe.\n",
      "The number of pages without any inlinks in 2022 is: 11\n"
     ]
    },
    {
     "data": {
      "image/png": "[encoded data removed]",
      "text/plain": [
       "<Figure size 500x300 with 2 Axes>"
      ]
     },
     "metadata": {},
     "output_type": "display_data"
    }
   ],
   "source": [
    "fig, axes = plt.subplots(nrows=1, ncols=2, figsize=(5, 3))\n",
    "plt.suptitle('Outlinks')\n",
    "art1, bins1 = edge_distributions(links.groupby(['article'])['linkTarget'].count(), False)\n",
    "art2, bins2 = edge_distributions(links22.groupby(['article'])['linkTarget'].count(), False, False)\n",
    "art1.hist(bins=bins1, ax=axes[0], log=True, color='blue' ,label='2009')\n",
    "art2.hist(bins=bins2, ax=axes[1], log=True, color='orange', label='2022')\n",
    "axes[0].set_title('2009')\n",
    "axes[1].set_title('2022')\n",
    "plt.show()"
   ]
  },
  {
   "cell_type": "markdown",
   "id": "4709715c",
   "metadata": {},
   "source": [
    "We have used log axes to plot the distributions since the distributions are heavily skewed to the right. The distributions are also similar, but we can see that in general pages got more inlinks as well as outlinks in 2022."
   ]
  },
  {
   "cell_type": "markdown",
   "id": "ea0953eb",
   "metadata": {},
   "source": [
    "### Categories\n",
    "For our analysis, we have decided to use 15 categories. These categories are general enough to allow us to interpret them but at the same time specific enough to allow us to do a meaningful analysis."
   ]
  },
  {
   "cell_type": "code",
   "execution_count": 290,
   "id": "caf00d39",
   "metadata": {},
   "outputs": [],
   "source": [
    "# The main categories that we are interested in (we have chosen these ourselves)\n",
    "wiki_2009_categories = pd.read_csv('./wikispeedia_paths-and-graph/categories.tsv', delim_whitespace=True, names=['article', 'category'], comment='#')\n",
    "wiki_2009_categories = wiki_2009_categories.groupby('article').sample(1)\n",
    "wiki_2009_categories['category'] = wiki_2009_categories['category'].str.extract(r'subject\\.([a-zA-Z]*)')\n",
    "wiki_2009_categories = wiki_2009_categories.set_index('article')\n",
    "article_cat = wiki_2009_categories.to_dict()['category']"
   ]
  },
  {
   "cell_type": "markdown",
   "id": "0489d4ea",
   "metadata": {},
   "source": [
    "### Getting Intimate with the Data\n",
    "We want to see how many articles are in each category"
   ]
  },
  {
   "cell_type": "code",
   "execution_count": 76,
   "metadata": {},
   "outputs": [
    {
     "data": {
      "image/png": "[encoded data removed]",
      "text/plain": [
       "<Figure size 640x480 with 1 Axes>"
      ]
     },
     "metadata": {},
     "output_type": "display_data"
    }
   ],
   "source": [
    "labels, values = zip(*Counter(article_cat.values()).items())\n",
    "indexes = np.arange(len(labels))\n",
    "width = 0.8\n",
    "\n",
    "plt.bar(indexes, values, width)\n",
    "plt.xticks(indexes, labels, rotation=90)\n",
    "plt.title(\"Bar Chart of Major Categories\")\n",
    "plt.show()"
   ]
  },
  {
   "cell_type": "markdown",
   "id": "320702a3",
   "metadata": {},
   "source": [
    "Converting the articles to categories in the links dataframe"
   ]
  },
  {
   "cell_type": "code",
   "execution_count": 137,
   "id": "38c9049a",
   "metadata": {},
   "outputs": [
    {
     "data": {
      "text/html": [
       "<div>\n",
       "<style scoped>\n",
       "    .dataframe tbody tr th:only-of-type {\n",
       "        vertical-align: middle;\n",
       "    }\n",
       "\n",
       "    .dataframe tbody tr th {\n",
       "        vertical-align: top;\n",
       "    }\n",
       "\n",
       "    .dataframe thead th {\n",
       "        text-align: right;\n",
       "    }\n",
       "</style>\n",
       "<table border=\"1\" class=\"dataframe\">\n",
       "  <thead>\n",
       "    <tr style=\"text-align: right;\">\n",
       "      <th></th>\n",
       "      <th>article</th>\n",
       "      <th>linkTarget</th>\n",
       "    </tr>\n",
       "  </thead>\n",
       "  <tbody>\n",
       "    <tr>\n",
       "      <th>0</th>\n",
       "      <td>People</td>\n",
       "      <td>History</td>\n",
       "    </tr>\n",
       "    <tr>\n",
       "      <th>1</th>\n",
       "      <td>People</td>\n",
       "      <td>People</td>\n",
       "    </tr>\n",
       "    <tr>\n",
       "      <th>2</th>\n",
       "      <td>People</td>\n",
       "      <td>History</td>\n",
       "    </tr>\n",
       "    <tr>\n",
       "      <th>3</th>\n",
       "      <td>People</td>\n",
       "      <td>Citizenship</td>\n",
       "    </tr>\n",
       "    <tr>\n",
       "      <th>4</th>\n",
       "      <td>People</td>\n",
       "      <td>Countries</td>\n",
       "    </tr>\n",
       "  </tbody>\n",
       "</table>\n",
       "</div>"
      ],
      "text/plain": [
       "  article   linkTarget\n",
       "0  People      History\n",
       "1  People       People\n",
       "2  People      History\n",
       "3  People  Citizenship\n",
       "4  People    Countries"
      ]
     },
     "execution_count": 137,
     "metadata": {},
     "output_type": "execute_result"
    }
   ],
   "source": [
    "categories = list(set(article_cat.values()))\n",
    "cats_df = links.copy(deep=True)\n",
    "cats_df['article'] = cats_df['article'].apply(lambda x: article_cat[x] if x in article_cat else 'NA') \n",
    "cats_df['linkTarget'] = cats_df['linkTarget'].apply(lambda x: article_cat[x] if x in article_cat else 'NA') \n",
    "cats_df.head()"
   ]
  },
  {
   "cell_type": "markdown",
   "id": "ab4f5546",
   "metadata": {},
   "source": [
    "Computing the adjacency matrix when the articles are converted to categories"
   ]
  },
  {
   "cell_type": "code",
   "execution_count": 150,
   "metadata": {},
   "outputs": [
    {
     "data": {
      "text/html": [
       "<div>\n",
       "<style scoped>\n",
       "    .dataframe tbody tr th:only-of-type {\n",
       "        vertical-align: middle;\n",
       "    }\n",
       "\n",
       "    .dataframe tbody tr th {\n",
       "        vertical-align: top;\n",
       "    }\n",
       "\n",
       "    .dataframe thead th {\n",
       "        text-align: right;\n",
       "    }\n",
       "</style>\n",
       "<table border=\"1\" class=\"dataframe\">\n",
       "  <thead>\n",
       "    <tr style=\"text-align: right;\">\n",
       "      <th>linkTarget</th>\n",
       "      <th>Art</th>\n",
       "      <th>Business</th>\n",
       "      <th>Citizenship</th>\n",
       "      <th>Countries</th>\n",
       "      <th>Design</th>\n",
       "      <th>Everyday</th>\n",
       "      <th>Geography</th>\n",
       "      <th>History</th>\n",
       "      <th>IT</th>\n",
       "      <th>Language</th>\n",
       "      <th>Mathematics</th>\n",
       "      <th>Music</th>\n",
       "      <th>NA</th>\n",
       "      <th>People</th>\n",
       "      <th>Religion</th>\n",
       "      <th>Science</th>\n",
       "    </tr>\n",
       "    <tr>\n",
       "      <th>article</th>\n",
       "      <th></th>\n",
       "      <th></th>\n",
       "      <th></th>\n",
       "      <th></th>\n",
       "      <th></th>\n",
       "      <th></th>\n",
       "      <th></th>\n",
       "      <th></th>\n",
       "      <th></th>\n",
       "      <th></th>\n",
       "      <th></th>\n",
       "      <th></th>\n",
       "      <th></th>\n",
       "      <th></th>\n",
       "      <th></th>\n",
       "      <th></th>\n",
       "    </tr>\n",
       "  </thead>\n",
       "  <tbody>\n",
       "    <tr>\n",
       "      <th>Art</th>\n",
       "      <td>121</td>\n",
       "      <td>5</td>\n",
       "      <td>28</td>\n",
       "      <td>63</td>\n",
       "      <td>30</td>\n",
       "      <td>34</td>\n",
       "      <td>184</td>\n",
       "      <td>152</td>\n",
       "      <td>3</td>\n",
       "      <td>55</td>\n",
       "      <td>3</td>\n",
       "      <td>12</td>\n",
       "      <td>0</td>\n",
       "      <td>199</td>\n",
       "      <td>56</td>\n",
       "      <td>60</td>\n",
       "    </tr>\n",
       "    <tr>\n",
       "      <th>Business</th>\n",
       "      <td>3</td>\n",
       "      <td>313</td>\n",
       "      <td>185</td>\n",
       "      <td>393</td>\n",
       "      <td>63</td>\n",
       "      <td>80</td>\n",
       "      <td>761</td>\n",
       "      <td>125</td>\n",
       "      <td>25</td>\n",
       "      <td>31</td>\n",
       "      <td>13</td>\n",
       "      <td>1</td>\n",
       "      <td>0</td>\n",
       "      <td>93</td>\n",
       "      <td>22</td>\n",
       "      <td>152</td>\n",
       "    </tr>\n",
       "    <tr>\n",
       "      <th>Citizenship</th>\n",
       "      <td>29</td>\n",
       "      <td>171</td>\n",
       "      <td>1147</td>\n",
       "      <td>1012</td>\n",
       "      <td>90</td>\n",
       "      <td>186</td>\n",
       "      <td>1892</td>\n",
       "      <td>693</td>\n",
       "      <td>39</td>\n",
       "      <td>201</td>\n",
       "      <td>35</td>\n",
       "      <td>16</td>\n",
       "      <td>0</td>\n",
       "      <td>588</td>\n",
       "      <td>239</td>\n",
       "      <td>361</td>\n",
       "    </tr>\n",
       "    <tr>\n",
       "      <th>Countries</th>\n",
       "      <td>25</td>\n",
       "      <td>274</td>\n",
       "      <td>656</td>\n",
       "      <td>1537</td>\n",
       "      <td>40</td>\n",
       "      <td>315</td>\n",
       "      <td>2646</td>\n",
       "      <td>619</td>\n",
       "      <td>4</td>\n",
       "      <td>313</td>\n",
       "      <td>6</td>\n",
       "      <td>27</td>\n",
       "      <td>0</td>\n",
       "      <td>209</td>\n",
       "      <td>231</td>\n",
       "      <td>271</td>\n",
       "    </tr>\n",
       "    <tr>\n",
       "      <th>Design</th>\n",
       "      <td>36</td>\n",
       "      <td>72</td>\n",
       "      <td>146</td>\n",
       "      <td>447</td>\n",
       "      <td>469</td>\n",
       "      <td>72</td>\n",
       "      <td>1415</td>\n",
       "      <td>397</td>\n",
       "      <td>42</td>\n",
       "      <td>69</td>\n",
       "      <td>14</td>\n",
       "      <td>9</td>\n",
       "      <td>0</td>\n",
       "      <td>258</td>\n",
       "      <td>44</td>\n",
       "      <td>465</td>\n",
       "    </tr>\n",
       "    <tr>\n",
       "      <th>Everyday</th>\n",
       "      <td>49</td>\n",
       "      <td>89</td>\n",
       "      <td>277</td>\n",
       "      <td>858</td>\n",
       "      <td>108</td>\n",
       "      <td>1216</td>\n",
       "      <td>2348</td>\n",
       "      <td>449</td>\n",
       "      <td>104</td>\n",
       "      <td>340</td>\n",
       "      <td>25</td>\n",
       "      <td>45</td>\n",
       "      <td>2</td>\n",
       "      <td>348</td>\n",
       "      <td>135</td>\n",
       "      <td>1068</td>\n",
       "    </tr>\n",
       "    <tr>\n",
       "      <th>Geography</th>\n",
       "      <td>123</td>\n",
       "      <td>630</td>\n",
       "      <td>1721</td>\n",
       "      <td>4526</td>\n",
       "      <td>524</td>\n",
       "      <td>1411</td>\n",
       "      <td>13418</td>\n",
       "      <td>2253</td>\n",
       "      <td>30</td>\n",
       "      <td>987</td>\n",
       "      <td>36</td>\n",
       "      <td>166</td>\n",
       "      <td>0</td>\n",
       "      <td>1128</td>\n",
       "      <td>739</td>\n",
       "      <td>2268</td>\n",
       "    </tr>\n",
       "    <tr>\n",
       "      <th>History</th>\n",
       "      <td>70</td>\n",
       "      <td>157</td>\n",
       "      <td>882</td>\n",
       "      <td>1517</td>\n",
       "      <td>287</td>\n",
       "      <td>284</td>\n",
       "      <td>3906</td>\n",
       "      <td>3230</td>\n",
       "      <td>14</td>\n",
       "      <td>338</td>\n",
       "      <td>26</td>\n",
       "      <td>32</td>\n",
       "      <td>0</td>\n",
       "      <td>1480</td>\n",
       "      <td>464</td>\n",
       "      <td>689</td>\n",
       "    </tr>\n",
       "    <tr>\n",
       "      <th>IT</th>\n",
       "      <td>1</td>\n",
       "      <td>35</td>\n",
       "      <td>51</td>\n",
       "      <td>40</td>\n",
       "      <td>30</td>\n",
       "      <td>16</td>\n",
       "      <td>82</td>\n",
       "      <td>11</td>\n",
       "      <td>383</td>\n",
       "      <td>48</td>\n",
       "      <td>37</td>\n",
       "      <td>3</td>\n",
       "      <td>0</td>\n",
       "      <td>61</td>\n",
       "      <td>1</td>\n",
       "      <td>62</td>\n",
       "    </tr>\n",
       "    <tr>\n",
       "      <th>Language</th>\n",
       "      <td>29</td>\n",
       "      <td>39</td>\n",
       "      <td>170</td>\n",
       "      <td>415</td>\n",
       "      <td>52</td>\n",
       "      <td>130</td>\n",
       "      <td>935</td>\n",
       "      <td>372</td>\n",
       "      <td>41</td>\n",
       "      <td>807</td>\n",
       "      <td>14</td>\n",
       "      <td>38</td>\n",
       "      <td>0</td>\n",
       "      <td>408</td>\n",
       "      <td>170</td>\n",
       "      <td>142</td>\n",
       "    </tr>\n",
       "    <tr>\n",
       "      <th>Mathematics</th>\n",
       "      <td>5</td>\n",
       "      <td>13</td>\n",
       "      <td>16</td>\n",
       "      <td>5</td>\n",
       "      <td>20</td>\n",
       "      <td>17</td>\n",
       "      <td>43</td>\n",
       "      <td>54</td>\n",
       "      <td>25</td>\n",
       "      <td>28</td>\n",
       "      <td>222</td>\n",
       "      <td>3</td>\n",
       "      <td>0</td>\n",
       "      <td>105</td>\n",
       "      <td>27</td>\n",
       "      <td>74</td>\n",
       "    </tr>\n",
       "    <tr>\n",
       "      <th>Music</th>\n",
       "      <td>8</td>\n",
       "      <td>10</td>\n",
       "      <td>57</td>\n",
       "      <td>187</td>\n",
       "      <td>27</td>\n",
       "      <td>43</td>\n",
       "      <td>523</td>\n",
       "      <td>88</td>\n",
       "      <td>10</td>\n",
       "      <td>64</td>\n",
       "      <td>1</td>\n",
       "      <td>495</td>\n",
       "      <td>0</td>\n",
       "      <td>182</td>\n",
       "      <td>20</td>\n",
       "      <td>58</td>\n",
       "    </tr>\n",
       "    <tr>\n",
       "      <th>NA</th>\n",
       "      <td>0</td>\n",
       "      <td>0</td>\n",
       "      <td>1</td>\n",
       "      <td>0</td>\n",
       "      <td>0</td>\n",
       "      <td>5</td>\n",
       "      <td>4</td>\n",
       "      <td>0</td>\n",
       "      <td>0</td>\n",
       "      <td>1</td>\n",
       "      <td>0</td>\n",
       "      <td>0</td>\n",
       "      <td>3</td>\n",
       "      <td>0</td>\n",
       "      <td>0</td>\n",
       "      <td>2</td>\n",
       "    </tr>\n",
       "    <tr>\n",
       "      <th>People</th>\n",
       "      <td>132</td>\n",
       "      <td>180</td>\n",
       "      <td>1179</td>\n",
       "      <td>1354</td>\n",
       "      <td>278</td>\n",
       "      <td>532</td>\n",
       "      <td>4423</td>\n",
       "      <td>1565</td>\n",
       "      <td>57</td>\n",
       "      <td>713</td>\n",
       "      <td>122</td>\n",
       "      <td>195</td>\n",
       "      <td>0</td>\n",
       "      <td>2435</td>\n",
       "      <td>805</td>\n",
       "      <td>1156</td>\n",
       "    </tr>\n",
       "    <tr>\n",
       "      <th>Religion</th>\n",
       "      <td>16</td>\n",
       "      <td>17</td>\n",
       "      <td>164</td>\n",
       "      <td>191</td>\n",
       "      <td>13</td>\n",
       "      <td>60</td>\n",
       "      <td>617</td>\n",
       "      <td>432</td>\n",
       "      <td>5</td>\n",
       "      <td>173</td>\n",
       "      <td>21</td>\n",
       "      <td>9</td>\n",
       "      <td>0</td>\n",
       "      <td>516</td>\n",
       "      <td>644</td>\n",
       "      <td>180</td>\n",
       "    </tr>\n",
       "    <tr>\n",
       "      <th>Science</th>\n",
       "      <td>50</td>\n",
       "      <td>104</td>\n",
       "      <td>376</td>\n",
       "      <td>1038</td>\n",
       "      <td>317</td>\n",
       "      <td>994</td>\n",
       "      <td>4307</td>\n",
       "      <td>628</td>\n",
       "      <td>62</td>\n",
       "      <td>376</td>\n",
       "      <td>115</td>\n",
       "      <td>23</td>\n",
       "      <td>0</td>\n",
       "      <td>815</td>\n",
       "      <td>245</td>\n",
       "      <td>13290</td>\n",
       "    </tr>\n",
       "  </tbody>\n",
       "</table>\n",
       "</div>"
      ],
      "text/plain": [
       "linkTarget   Art  Business  Citizenship  Countries  Design  Everyday  \\\n",
       "article                                                                \n",
       "Art          121         5           28         63      30        34   \n",
       "Business       3       313          185        393      63        80   \n",
       "Citizenship   29       171         1147       1012      90       186   \n",
       "Countries     25       274          656       1537      40       315   \n",
       "Design        36        72          146        447     469        72   \n",
       "Everyday      49        89          277        858     108      1216   \n",
       "Geography    123       630         1721       4526     524      1411   \n",
       "History       70       157          882       1517     287       284   \n",
       "IT             1        35           51         40      30        16   \n",
       "Language      29        39          170        415      52       130   \n",
       "Mathematics    5        13           16          5      20        17   \n",
       "Music          8        10           57        187      27        43   \n",
       "NA             0         0            1          0       0         5   \n",
       "People       132       180         1179       1354     278       532   \n",
       "Religion      16        17          164        191      13        60   \n",
       "Science       50       104          376       1038     317       994   \n",
       "\n",
       "linkTarget   Geography  History   IT  Language  Mathematics  Music  NA  \\\n",
       "article                                                                  \n",
       "Art                184      152    3        55            3     12   0   \n",
       "Business           761      125   25        31           13      1   0   \n",
       "Citizenship       1892      693   39       201           35     16   0   \n",
       "Countries         2646      619    4       313            6     27   0   \n",
       "Design            1415      397   42        69           14      9   0   \n",
       "Everyday          2348      449  104       340           25     45   2   \n",
       "Geography        13418     2253   30       987           36    166   0   \n",
       "History           3906     3230   14       338           26     32   0   \n",
       "IT                  82       11  383        48           37      3   0   \n",
       "Language           935      372   41       807           14     38   0   \n",
       "Mathematics         43       54   25        28          222      3   0   \n",
       "Music              523       88   10        64            1    495   0   \n",
       "NA                   4        0    0         1            0      0   3   \n",
       "People            4423     1565   57       713          122    195   0   \n",
       "Religion           617      432    5       173           21      9   0   \n",
       "Science           4307      628   62       376          115     23   0   \n",
       "\n",
       "linkTarget   People  Religion  Science  \n",
       "article                                 \n",
       "Art             199        56       60  \n",
       "Business         93        22      152  \n",
       "Citizenship     588       239      361  \n",
       "Countries       209       231      271  \n",
       "Design          258        44      465  \n",
       "Everyday        348       135     1068  \n",
       "Geography      1128       739     2268  \n",
       "History        1480       464      689  \n",
       "IT               61         1       62  \n",
       "Language        408       170      142  \n",
       "Mathematics     105        27       74  \n",
       "Music           182        20       58  \n",
       "NA                0         0        2  \n",
       "People         2435       805     1156  \n",
       "Religion        516       644      180  \n",
       "Science         815       245    13290  "
      ]
     },
     "execution_count": 150,
     "metadata": {},
     "output_type": "execute_result"
    }
   ],
   "source": [
    "cats_df.groupby(['article', 'linkTarget']).size().unstack(fill_value=0)"
   ]
  },
  {
   "cell_type": "code",
   "execution_count": 153,
   "id": "252a2980",
   "metadata": {},
   "outputs": [
    {
     "data": {
      "text/plain": [
       "<AxesSubplot: xlabel='linkTarget', ylabel='article'>"
      ]
     },
     "execution_count": 153,
     "metadata": {},
     "output_type": "execute_result"
    },
    {
     "data": {
      "image/png": "[encoded data removed]",
      "text/plain": [
       "<Figure size 640x480 with 2 Axes>"
      ]
     },
     "metadata": {},
     "output_type": "display_data"
    }
   ],
   "source": [
    "sns.heatmap(data=cats_df.groupby(['article', 'linkTarget']).size().unstack(fill_value=0), norm=LogNorm())"
   ]
  },
  {
   "cell_type": "markdown",
   "id": "07b64107",
   "metadata": {},
   "source": [
    "### Some Observations\n",
    "1) *The Geography row is on average lighter than the Design row:*\n",
    "This makes sense because the Geography row is more likely to be used by a player since it is easiest to think of when traversing from one page to the other, the player anticipates their next moves to be easier with this.\n",
    "\n",
    "2) *Design to Geography has a darker colour than Geography to Design:*\n",
    "This makes sense since people would move from Design, which is a domain with fewer and less natural connections to other categories, to Geography, a domain with many natural connections to other categories, but not the other way around"
   ]
  },
  {
   "cell_type": "markdown",
   "id": "b4820514",
   "metadata": {},
   "source": [
    "### Category-Wise Analysis\n",
    "We check things like-\n",
    "1. How many articles are there in each category?\n",
    "2. Number of inlinks and outlinks for each category"
   ]
  },
  {
   "cell_type": "code",
   "execution_count": 293,
   "id": "4a4fa1e0",
   "metadata": {},
   "outputs": [],
   "source": [
    "# Return list of all articles in a category\n",
    "def cat_wise(cats_link, cat):\n",
    "    cats_link = cats_link[cats_link['category'] == cat].index\n",
    "    return list(cats_link)"
   ]
  },
  {
   "cell_type": "code",
   "execution_count": 294,
   "id": "e55d7116",
   "metadata": {},
   "outputs": [],
   "source": [
    "def get_plaintext(name):\n",
    "    file_path = './plaintext_articles/' + name + '.txt'\n",
    "    with open(file_path, encoding='utf-8') as file:\n",
    "        #first 5 lines are comments and titles \n",
    "        lines = file.readlines()[5:] \n",
    "        return list(map(str.strip, lines))\n",
    "\n",
    "def cat_wise_stats(cats_link, cat):\n",
    "    titles = cat_wise(wiki_2009_categories, cat)\n",
    "    word_count_ls = []\n",
    "\n",
    "    for title in titles:\n",
    "        word_count= sum([len(l.split()) for l in get_plaintext(title)])\n",
    "        word_count_ls.append(word_count)\n",
    "\n",
    "    inc = links.groupby(['linkTarget'])['article'].count()\n",
    "    out = links.groupby(['article'])['linkTarget'].count()\n",
    "    filt_inc = inc[[x in article_cat and article_cat[x] == cat for x in inc.index]]\n",
    "    filt_out = out[[x in article_cat and article_cat[x] == cat for x in out.index]]\n",
    "    avg_words = mean(word_count_ls)\n",
    "    avg_in = filt_inc.mean()\n",
    "    avg_out = filt_out.mean()\n",
    "    print(f'The average number of words in a wikipedia article for category \"{cat}\" is: {avg_words:.2f}')\n",
    "    print(f'The average number of inlinks for category \"{cat}\" is: {avg_in:.2f}')\n",
    "    print(f'The average number of outlinks for category \"{cat}\" is: {avg_out:.2f}')\n",
    "    print(f'The average number of words per inlink for category \"{cat}\" is: {avg_words/avg_in:.2f}')\n",
    "    print(f'The average number of words per outlink for category \"{cat}\" is: {avg_words/avg_out:.2f}')"
   ]
  },
  {
   "cell_type": "markdown",
   "id": "f029c1ac",
   "metadata": {},
   "source": [
    "### Category-Wise Analysis"
   ]
  },
  {
   "cell_type": "markdown",
   "id": "e8f8d276",
   "metadata": {},
   "source": [
    "**Design**"
   ]
  },
  {
   "cell_type": "code",
   "execution_count": 301,
   "id": "77eee335",
   "metadata": {},
   "outputs": [
    {
     "name": "stdout",
     "output_type": "stream",
     "text": [
      "The average number of words in a wikipedia article for category \"Design\" is: 3001.08\n",
      "The average number of inlinks for category \"Design\" is: 13.88\n",
      "The average number of outlinks for category \"Design\" is: 17.99\n",
      "The average number of words per inlink for category \"Design\" is: 216.22\n",
      "The average number of words per outlink for category \"Design\" is: 166.86\n"
     ]
    }
   ],
   "source": [
    "cat_wise_stats(links, 'Design')"
   ]
  },
  {
   "cell_type": "markdown",
   "id": "a3233b28",
   "metadata": {},
   "source": [
    "**Geography**"
   ]
  },
  {
   "cell_type": "code",
   "execution_count": 302,
   "id": "57c51c16",
   "metadata": {},
   "outputs": [
    {
     "name": "stdout",
     "output_type": "stream",
     "text": [
      "The average number of words in a wikipedia article for category \"Geography\" is: 2937.44\n",
      "The average number of inlinks for category \"Geography\" is: 44.08\n",
      "The average number of outlinks for category \"Geography\" is: 33.00\n",
      "The average number of words per inlink for category \"Geography\" is: 66.64\n",
      "The average number of words per outlink for category \"Geography\" is: 89.03\n"
     ]
    }
   ],
   "source": [
    "cat_wise_stats(links, 'Geography')\n"
   ]
  }
 ],
 "metadata": {
  "kernelspec": {
   "display_name": "Python 3.9.13 ('ada22')",
   "language": "python",
   "name": "python3"
  },
  "language_info": {
   "codemirror_mode": {
    "name": "ipython",
    "version": 3
   },
   "file_extension": ".py",
   "mimetype": "text/x-python",
   "name": "python",
   "nbconvert_exporter": "python",
   "pygments_lexer": "ipython3",
   "version": "3.9.13"
  },
  "vscode": {
   "interpreter": {
    "hash": "06b025021922f34281918274dfe66454ff885a4ae52e488236336aa9407dc36d"
   }
  }
 },
 "nbformat": 4,
 "nbformat_minor": 5
}
