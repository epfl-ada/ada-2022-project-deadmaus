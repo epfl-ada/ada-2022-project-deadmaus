{
 "cells": [
  {
   "cell_type": "code",
   "execution_count": 1,
   "id": "6ef88cca-4d79-4cd3-86c0-a00d5fb162d4",
   "metadata": {},
   "outputs": [],
   "source": [
    "import pandas as pd\n",
    "import numpy as np\n",
    "import matplotlib.pyplot as plt\n",
    "from scipy import stats\n",
    "from urllib.parse import quote, unquote\n",
    "from bs4 import BeautifulSoup"
   ]
  },
  {
   "cell_type": "code",
   "execution_count": 2,
   "id": "ddfdf5bf-a267-4dc0-ae34-654e881d3feb",
   "metadata": {},
   "outputs": [],
   "source": [
    "articles = pd.read_csv('wikispeedia_paths-and-graph/articles.tsv', comment='#', delimiter='\\t', encoding='utf8', \n",
    "                                    names=['article'])\n",
    "categories = pd.read_csv('wikispeedia_paths-and-graph/categories.tsv', comment='#', delimiter='\\t',\n",
    "                                    names=['article', 'category'])\n",
    "links = pd.read_csv('wikispeedia_paths-and-graph/links.tsv', comment='#', delimiter='\\t', \n",
    "                                    names=['article', 'linkTarget'])  \n",
    "finished_paths = pd.read_csv('wikispeedia_paths-and-graph/paths_finished.tsv', comment='#', delimiter='\\t', \n",
    "                                    names=['hashedIpAddress', 'timestamp', 'durationInSec', 'path', 'rating'])\n",
    "unfinished_paths = pd.read_csv('wikispeedia_paths-and-graph/paths_unfinished.tsv', comment='#', delimiter='\\t',\n",
    "                                    names=['hashedIpAddress', 'timestamp', 'durationInSec', 'path', 'target', 'type'])"
   ]
  },
  {
   "cell_type": "code",
   "execution_count": 3,
   "id": "4d415e84-5f4d-4845-85eb-3de4807abd23",
   "metadata": {},
   "outputs": [
    {
     "data": {
      "text/html": [
       "<div>\n",
       "<style scoped>\n",
       "    .dataframe tbody tr th:only-of-type {\n",
       "        vertical-align: middle;\n",
       "    }\n",
       "\n",
       "    .dataframe tbody tr th {\n",
       "        vertical-align: top;\n",
       "    }\n",
       "\n",
       "    .dataframe thead th {\n",
       "        text-align: right;\n",
       "    }\n",
       "</style>\n",
       "<table border=\"1\" class=\"dataframe\">\n",
       "  <thead>\n",
       "    <tr style=\"text-align: right;\">\n",
       "      <th></th>\n",
       "      <th>article</th>\n",
       "      <th>linkTarget</th>\n",
       "    </tr>\n",
       "  </thead>\n",
       "  <tbody>\n",
       "    <tr>\n",
       "      <th>0</th>\n",
       "      <td>Áedán_mac_Gabráin</td>\n",
       "      <td>Bede</td>\n",
       "    </tr>\n",
       "    <tr>\n",
       "      <th>1</th>\n",
       "      <td>Áedán_mac_Gabráin</td>\n",
       "      <td>Columba</td>\n",
       "    </tr>\n",
       "    <tr>\n",
       "      <th>2</th>\n",
       "      <td>Áedán_mac_Gabráin</td>\n",
       "      <td>Dál_Riata</td>\n",
       "    </tr>\n",
       "    <tr>\n",
       "      <th>3</th>\n",
       "      <td>Áedán_mac_Gabráin</td>\n",
       "      <td>Great_Britain</td>\n",
       "    </tr>\n",
       "    <tr>\n",
       "      <th>4</th>\n",
       "      <td>Áedán_mac_Gabráin</td>\n",
       "      <td>Ireland</td>\n",
       "    </tr>\n",
       "  </tbody>\n",
       "</table>\n",
       "</div>"
      ],
      "text/plain": [
       "             article     linkTarget\n",
       "0  Áedán_mac_Gabráin           Bede\n",
       "1  Áedán_mac_Gabráin        Columba\n",
       "2  Áedán_mac_Gabráin      Dál_Riata\n",
       "3  Áedán_mac_Gabráin  Great_Britain\n",
       "4  Áedán_mac_Gabráin        Ireland"
      ]
     },
     "execution_count": 3,
     "metadata": {},
     "output_type": "execute_result"
    }
   ],
   "source": [
    "# Apply decoding on articles\n",
    "# Note: article names stored in df are decdoed but with \n",
    "# underscores (_) instead of spaces ( )\n",
    "articles['article'] = articles['article'].apply(unquote)\n",
    "categories['article'] = categories['article'].apply(unquote)\n",
    "links = links.applymap(unquote)\n",
    "links.head(5)"
   ]
  },
  {
   "cell_type": "code",
   "execution_count": 11,
   "id": "693c8126",
   "metadata": {},
   "outputs": [
    {
     "data": {
      "text/html": [
       "<div>\n",
       "<style scoped>\n",
       "    .dataframe tbody tr th:only-of-type {\n",
       "        vertical-align: middle;\n",
       "    }\n",
       "\n",
       "    .dataframe tbody tr th {\n",
       "        vertical-align: top;\n",
       "    }\n",
       "\n",
       "    .dataframe thead th {\n",
       "        text-align: right;\n",
       "    }\n",
       "</style>\n",
       "<table border=\"1\" class=\"dataframe\">\n",
       "  <thead>\n",
       "    <tr style=\"text-align: right;\">\n",
       "      <th></th>\n",
       "      <th>article</th>\n",
       "      <th>linkTarget</th>\n",
       "    </tr>\n",
       "  </thead>\n",
       "  <tbody>\n",
       "    <tr>\n",
       "      <th>0</th>\n",
       "      <td>linkSource</td>\n",
       "      <td>linkTarget</td>\n",
       "    </tr>\n",
       "    <tr>\n",
       "      <th>1</th>\n",
       "      <td>Áedán_mac_Gabráin</td>\n",
       "      <td>Columba</td>\n",
       "    </tr>\n",
       "    <tr>\n",
       "      <th>2</th>\n",
       "      <td>Áedán_mac_Gabráin</td>\n",
       "      <td>Isle_of_Man</td>\n",
       "    </tr>\n",
       "    <tr>\n",
       "      <th>3</th>\n",
       "      <td>Áedán_mac_Gabráin</td>\n",
       "      <td>Genealogy</td>\n",
       "    </tr>\n",
       "    <tr>\n",
       "      <th>4</th>\n",
       "      <td>Áedán_mac_Gabráin</td>\n",
       "      <td>Bede</td>\n",
       "    </tr>\n",
       "  </tbody>\n",
       "</table>\n",
       "</div>"
      ],
      "text/plain": [
       "             article   linkTarget\n",
       "0         linkSource   linkTarget\n",
       "1  Áedán_mac_Gabráin      Columba\n",
       "2  Áedán_mac_Gabráin  Isle_of_Man\n",
       "3  Áedán_mac_Gabráin    Genealogy\n",
       "4  Áedán_mac_Gabráin         Bede"
      ]
     },
     "execution_count": 11,
     "metadata": {},
     "output_type": "execute_result"
    }
   ],
   "source": [
    "links22 = pd.read_csv('Wiki_2022/links22.tsv', comment='#', delimiter='\\t', names=['article', 'linkTarget']).applymap(unquote)\n",
    "links22.head()"
   ]
  },
  {
   "cell_type": "code",
   "execution_count": 4,
   "id": "d0a56d83-edcc-46d1-af6d-436fd9f46e77",
   "metadata": {},
   "outputs": [],
   "source": [
    "# Set indices\n",
    "articles.set_index('article', inplace=True)\n",
    "categories.set_index('article', inplace=True)\n",
    "finished_paths.set_index('hashedIpAddress', inplace=True)\n",
    "unfinished_paths.set_index('hashedIpAddress', inplace=True)"
   ]
  },
  {
   "cell_type": "code",
   "execution_count": 5,
   "id": "19752622-908f-4468-868e-252756001c2e",
   "metadata": {},
   "outputs": [
    {
     "name": "stdout",
     "output_type": "stream",
     "text": [
      "51318\n"
     ]
    }
   ],
   "source": [
    "# Create df with all paths\n",
    "paths_combined = pd.concat([finished_paths, unfinished_paths])\n",
    "paths_combined.head(5)\n",
    "print(len(finished_paths.index))"
   ]
  },
  {
   "cell_type": "code",
   "execution_count": 6,
   "id": "35653412",
   "metadata": {},
   "outputs": [
    {
     "name": "stderr",
     "output_type": "stream",
     "text": [
      "/var/folders/gg/nvlghfjs75g8s2cktfy2rbd40000gn/T/ipykernel_12578/3853467544.py:11: SettingWithCopyWarning: \n",
      "A value is trying to be set on a copy of a slice from a DataFrame.\n",
      "Try using .loc[row_indexer,col_indexer] = value instead\n",
      "\n",
      "See the caveats in the documentation: https://pandas.pydata.org/pandas-docs/stable/user_guide/indexing.html#returning-a-view-versus-a-copy\n",
      "  finished_paths_with_back['article1'], finished_paths_with_back['article2'] = \\\n",
      "/var/folders/gg/nvlghfjs75g8s2cktfy2rbd40000gn/T/ipykernel_12578/3853467544.py:11: SettingWithCopyWarning: \n",
      "A value is trying to be set on a copy of a slice from a DataFrame.\n",
      "Try using .loc[row_indexer,col_indexer] = value instead\n",
      "\n",
      "See the caveats in the documentation: https://pandas.pydata.org/pandas-docs/stable/user_guide/indexing.html#returning-a-view-versus-a-copy\n",
      "  finished_paths_with_back['article1'], finished_paths_with_back['article2'] = \\\n"
     ]
    },
    {
     "data": {
      "text/html": [
       "<div>\n",
       "<style scoped>\n",
       "    .dataframe tbody tr th:only-of-type {\n",
       "        vertical-align: middle;\n",
       "    }\n",
       "\n",
       "    .dataframe tbody tr th {\n",
       "        vertical-align: top;\n",
       "    }\n",
       "\n",
       "    .dataframe thead th {\n",
       "        text-align: right;\n",
       "    }\n",
       "</style>\n",
       "<table border=\"1\" class=\"dataframe\">\n",
       "  <thead>\n",
       "    <tr style=\"text-align: right;\">\n",
       "      <th></th>\n",
       "      <th>timestamp</th>\n",
       "      <th>durationInSec</th>\n",
       "      <th>path</th>\n",
       "      <th>rating</th>\n",
       "      <th>article1</th>\n",
       "      <th>article2</th>\n",
       "    </tr>\n",
       "    <tr>\n",
       "      <th>hashedIpAddress</th>\n",
       "      <th></th>\n",
       "      <th></th>\n",
       "      <th></th>\n",
       "      <th></th>\n",
       "      <th></th>\n",
       "      <th></th>\n",
       "    </tr>\n",
       "  </thead>\n",
       "  <tbody>\n",
       "    <tr>\n",
       "      <th>4cb0068c36658716</th>\n",
       "      <td>1248654953</td>\n",
       "      <td>253</td>\n",
       "      <td>14th_century;Time;Science;Nature;Weather;Sunli...</td>\n",
       "      <td>3.0</td>\n",
       "      <td>Sunlight</td>\n",
       "      <td>Sun</td>\n",
       "    </tr>\n",
       "    <tr>\n",
       "      <th>0d57c8c57d75e2f5</th>\n",
       "      <td>1283956474</td>\n",
       "      <td>391</td>\n",
       "      <td>14th_century;Renaissance;Empiricism;Nature;Wea...</td>\n",
       "      <td>5.0</td>\n",
       "      <td>Sunlight</td>\n",
       "      <td>Rain</td>\n",
       "    </tr>\n",
       "    <tr>\n",
       "      <th>0d57c8c57d75e2f5</th>\n",
       "      <td>1290753904</td>\n",
       "      <td>432</td>\n",
       "      <td>14th_century;Renaissance;Leonardo_da_Vinci;Wat...</td>\n",
       "      <td>NaN</td>\n",
       "      <td>Cloud</td>\n",
       "      <td>&lt;</td>\n",
       "    </tr>\n",
       "    <tr>\n",
       "      <th>03dc907932cecfc5</th>\n",
       "      <td>1336436263</td>\n",
       "      <td>387</td>\n",
       "      <td>14th_century;Europe;Republic_of_Ireland;&lt;;&lt;;Eu...</td>\n",
       "      <td>2.0</td>\n",
       "      <td>Republic_of_Ireland</td>\n",
       "      <td>&lt;</td>\n",
       "    </tr>\n",
       "    <tr>\n",
       "      <th>46021cc81bd7069a</th>\n",
       "      <td>1343940479</td>\n",
       "      <td>246</td>\n",
       "      <td>14th_century;Time;Physics;&lt;;Day;Sun;Sunlight;U...</td>\n",
       "      <td>NaN</td>\n",
       "      <td>Physics</td>\n",
       "      <td>Day</td>\n",
       "    </tr>\n",
       "  </tbody>\n",
       "</table>\n",
       "</div>"
      ],
      "text/plain": [
       "                   timestamp  durationInSec  \\\n",
       "hashedIpAddress                               \n",
       "4cb0068c36658716  1248654953            253   \n",
       "0d57c8c57d75e2f5  1283956474            391   \n",
       "0d57c8c57d75e2f5  1290753904            432   \n",
       "03dc907932cecfc5  1336436263            387   \n",
       "46021cc81bd7069a  1343940479            246   \n",
       "\n",
       "                                                               path  rating  \\\n",
       "hashedIpAddress                                                               \n",
       "4cb0068c36658716  14th_century;Time;Science;Nature;Weather;Sunli...     3.0   \n",
       "0d57c8c57d75e2f5  14th_century;Renaissance;Empiricism;Nature;Wea...     5.0   \n",
       "0d57c8c57d75e2f5  14th_century;Renaissance;Leonardo_da_Vinci;Wat...     NaN   \n",
       "03dc907932cecfc5  14th_century;Europe;Republic_of_Ireland;<;<;Eu...     2.0   \n",
       "46021cc81bd7069a  14th_century;Time;Physics;<;Day;Sun;Sunlight;U...     NaN   \n",
       "\n",
       "                             article1 article2  \n",
       "hashedIpAddress                                 \n",
       "4cb0068c36658716             Sunlight      Sun  \n",
       "0d57c8c57d75e2f5             Sunlight     Rain  \n",
       "0d57c8c57d75e2f5                Cloud        <  \n",
       "03dc907932cecfc5  Republic_of_Ireland        <  \n",
       "46021cc81bd7069a              Physics      Day  "
      ]
     },
     "execution_count": 6,
     "metadata": {},
     "output_type": "execute_result"
    }
   ],
   "source": [
    "# Filter out all paths with <\n",
    "finished_paths_with_back = finished_paths.loc[finished_paths.path.str.contains('<')]\n",
    "\n",
    "def get_associated_articles(path):\n",
    "    article_list = path.split(';')\n",
    "    index = article_list.index('<')\n",
    "    return article_list[index-1], article_list[index+1]\n",
    "    \n",
    "# Add columns of associated articles before and after <\n",
    "# TODO: get rid of warnings\n",
    "finished_paths_with_back['article1'], finished_paths_with_back['article2'] = \\\n",
    "    zip(*finished_paths_with_back['path'].map(get_associated_articles))\n",
    "finished_paths_with_back.head(5)"
   ]
  },
  {
   "cell_type": "code",
   "execution_count": 7,
   "id": "09841128",
   "metadata": {},
   "outputs": [
    {
     "data": {
      "text/plain": [
       "8995"
      ]
     },
     "execution_count": 7,
     "metadata": {},
     "output_type": "execute_result"
    }
   ],
   "source": [
    "len(finished_paths_with_back.index)"
   ]
  },
  {
   "cell_type": "code",
   "execution_count": 8,
   "id": "ba418298",
   "metadata": {},
   "outputs": [],
   "source": [
    "# Functions for accessing article data\n",
    "# Return a list containing plaintext content of wikipedia article\n",
    "def get_plaintext(name):\n",
    "    file_path = 'plaintext_articles/' + quote(name) + '.txt'\n",
    "    with open(file_path, encoding='utf-8') as file:\n",
    "        #first 5 lines are comments and titles \n",
    "        lines = file.readlines()[5:] \n",
    "        return list(map(str.strip, lines))\n",
    "\n",
    "# Return prettified html content of wikipedia article\n",
    "def get_html(name):\n",
    "    file_path = 'wpcd/wp/' + name[0] + '/' + quote(name) + '.htm'\n",
    "    with open(file_path) as file:\n",
    "        html_doc = file.read()\n",
    "        soup = BeautifulSoup(html_doc, 'html.parser')\n",
    "        return soup.prettify()"
   ]
  },
  {
   "cell_type": "markdown",
   "id": "6b0ff7b7",
   "metadata": {},
   "source": [
    "## Exploratory Data Analysis"
   ]
  },
  {
   "cell_type": "code",
   "execution_count": 13,
   "id": "7d79b37b",
   "metadata": {},
   "outputs": [
    {
     "name": "stdout",
     "output_type": "stream",
     "text": [
      "The number of articles is: 4604\n"
     ]
    }
   ],
   "source": [
    "# Exploratory Data Analysis\n",
    "n_articles = len(articles)\n",
    "print(f'The number of articles is: {n_articles}')\n"
   ]
  },
  {
   "cell_type": "markdown",
   "id": "02cbc695",
   "metadata": {},
   "source": [
    "### Wikispeedia Graph Structure\n",
    "Stats and visualisations of the graph structure of the original Wikispeedia dataset"
   ]
  },
  {
   "cell_type": "code",
   "execution_count": 67,
   "id": "acaed8f8",
   "metadata": {},
   "outputs": [
    {
     "name": "stdout",
     "output_type": "stream",
     "text": [
      "The mean number of inlinks is: 26.04\n",
      "The maximum number of inlinks on any page is: 1551.0. This is the article on United_States.\n",
      "The number of pages without any inlinks is: 469\n"
     ]
    },
    {
     "data": {
      "image/png": "[encoded data removed]",
      "text/plain": [
       "<Figure size 640x480 with 1 Axes>"
      ]
     },
     "metadata": {},
     "output_type": "display_data"
    }
   ],
   "source": [
    "incoming = links.groupby(['linkTarget'])['article'].count()\n",
    "articles_incoming = (articles.join(incoming).fillna(0))\n",
    "\n",
    "articles_incoming_lt = articles_incoming.article\n",
    "mean_links = articles_incoming_lt.mean()\n",
    "max_links = articles_incoming_lt.max()\n",
    "num_leaves = (articles_incoming_lt == 0).sum()\n",
    "print(f'The mean number of inlinks is: {mean_links:.2f}')\n",
    "print(f'The maximum number of inlinks on any page is: {max_links}. This is the article on {articles_incoming_lt[articles_incoming_lt==max_links].index[0]}.')\n",
    "print(f'The number of pages without any inlinks is: {num_leaves}')\n",
    "\n",
    "articles_incoming_lt\n",
    "bins = [i for i in range(int(max(articles_incoming_lt)+1))]\n",
    "ax = articles_incoming.hist(bins=bins)\n",
    "plt.show()"
   ]
  },
  {
   "cell_type": "code",
   "execution_count": 64,
   "id": "9fad5474",
   "metadata": {},
   "outputs": [
    {
     "name": "stdout",
     "output_type": "stream",
     "text": [
      "The mean number of links is: 26.04\n",
      "The maximum number of outlinks on any page is: 294.0. This is the article on United_States.\n",
      "The number of pages without any outlinks is: 17\n"
     ]
    },
    {
     "data": {
      "image/png": "[encoded data removed]",
      "text/plain": [
       "<Figure size 640x480 with 1 Axes>"
      ]
     },
     "metadata": {},
     "output_type": "display_data"
    }
   ],
   "source": [
    "outgoing = links.groupby(['article'])['linkTarget'].count()\n",
    "articles_outgoing = (articles.join(outgoing).fillna(0))\n",
    "\n",
    "articles_outgoing_lt = articles_outgoing.linkTarget\n",
    "mean_links = articles_outgoing_lt.mean()\n",
    "max_links = articles_outgoing_lt.max()\n",
    "num_leaves = (articles_outgoing_lt == 0).sum()\n",
    "print(f'The mean number of outlinks is: {mean_links:.2f}')\n",
    "print(f'The maximum number of outlinks on any page is: {max_links}. This is the article on {articles_outgoing_lt[articles_outgoing_lt==max_links].index[0]}.')\n",
    "print(f'The number of pages without any outlinks is: {num_leaves}')\n",
    "\n",
    "articles_outgoing_lt\n",
    "bins = [i for i in range(int(max(articles_outgoing_lt)+1))]\n",
    "ax = articles_outgoing.hist(bins=bins)\n",
    "plt.show()"
   ]
  },
  {
   "cell_type": "code",
   "execution_count": null,
   "id": "b7b6073d",
   "metadata": {},
   "outputs": [],
   "source": []
  },
  {
   "cell_type": "markdown",
   "id": "6d96af06",
   "metadata": {},
   "source": [
    "### Wikipedia Graph Structure 2022\n",
    "Stats and visualisations of the graph structure of current wikipedia using the same nodes as in the Wikispeedia dataset"
   ]
  },
  {
   "cell_type": "code",
   "execution_count": 71,
   "id": "3b766fb9",
   "metadata": {},
   "outputs": [
    {
     "name": "stdout",
     "output_type": "stream",
     "text": [
      "The mean number of inlinks in 2022 is: 49.43\n",
      "The maximum number of inlinks in 2022 on any page is: 1064.0. This is the article on United_States.\n",
      "The number of pages without any inlinks in 2022 is: 467\n"
     ]
    },
    {
     "data": {
      "image/png": "[encoded data removed]",
      "text/plain": [
       "<Figure size 640x480 with 1 Axes>"
      ]
     },
     "metadata": {},
     "output_type": "display_data"
    }
   ],
   "source": [
    "incoming22 = links22.groupby(['linkTarget'])['article'].count()\n",
    "articles_incoming22 = (articles.join(incoming22).fillna(0))\n",
    "\n",
    "articles_incoming22_lt = articles_incoming22.article\n",
    "mean_links22 = articles_incoming22_lt.mean()\n",
    "max_links22 = articles_incoming22_lt.max()\n",
    "num_leaves = (articles_incoming22_lt == 0).sum()\n",
    "print(f'The mean number of inlinks in 2022 is: {mean_links22:.2f}')\n",
    "print(f'The maximum number of inlinks in 2022 on any page is: {max_links22}. This is the article on {articles_incoming22_lt[articles_incoming22_lt==max_links22].index[0]}.')\n",
    "print(f'The number of pages without any inlinks in 2022 is: {num_leaves}')\n",
    "\n",
    "articles_incoming22_lt\n",
    "bins = [i for i in range(int(max(articles_incoming22_lt)+1))]\n",
    "ax = articles_incoming22.hist(bins=bins)\n",
    "plt.show()"
   ]
  },
  {
   "cell_type": "code",
   "execution_count": 74,
   "id": "e5413d88",
   "metadata": {},
   "outputs": [
    {
     "name": "stdout",
     "output_type": "stream",
     "text": [
      "The mean number of outlinks in 2022 is: 49.43\n",
      "The maximum number of outlinks in 2022 on any page is: 367.0. This is the article on Europe.\n",
      "The number of pages without any outlinks in 2022 is: 11\n"
     ]
    },
    {
     "data": {
      "image/png": "[encoded data removed]",
      "text/plain": [
       "<Figure size 640x480 with 1 Axes>"
      ]
     },
     "metadata": {},
     "output_type": "display_data"
    }
   ],
   "source": [
    "outgoing22 = links22.groupby(['article'])['linkTarget'].count()\n",
    "articles_outgoing22 = (articles.join(outgoing22).fillna(0))\n",
    "\n",
    "articles_outgoing22_lt = articles_outgoing22.linkTarget\n",
    "mean_links22 = articles_outgoing22_lt.mean()\n",
    "max_links22 = articles_outgoing22_lt.max()\n",
    "num_leaves = (articles_outgoing22_lt == 0).sum()\n",
    "print(f'The mean number of outlinks in 2022 is: {mean_links22:.2f}')\n",
    "print(f'The maximum number of outlinks in 2022 on any page is: {max_links22}. This is the article on {articles_outgoing22_lt[articles_outgoing22_lt==max_links22].index[0]}.')\n",
    "print(f'The number of pages without any outlinks in 2022 is: {num_leaves}')\n",
    "\n",
    "articles_outgoing22_lt\n",
    "bins = [i for i in range(int(max(articles_outgoing22_lt)+1))]\n",
    "ax = articles_outgoing22.hist(bins=bins)\n",
    "plt.show()\n"
   ]
  },
  {
   "cell_type": "markdown",
   "id": "c0465131",
   "metadata": {},
   "source": [
    "We can see that the number of links has nearly doubled"
   ]
  }
 ],
 "metadata": {
  "kernelspec": {
   "display_name": "Python 3.9.13 ('ada22')",
   "language": "python",
   "name": "python3"
  },
  "language_info": {
   "codemirror_mode": {
    "name": "ipython",
    "version": 3
   },
   "file_extension": ".py",
   "mimetype": "text/x-python",
   "name": "python",
   "nbconvert_exporter": "python",
   "pygments_lexer": "ipython3",
   "version": "3.9.13"
  },
  "vscode": {
   "interpreter": {
    "hash": "06b025021922f34281918274dfe66454ff885a4ae52e488236336aa9407dc36d"
   }
  }
 },
 "nbformat": 4,
 "nbformat_minor": 5
}
